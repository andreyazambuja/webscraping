{
 "cells": [
  {
   "cell_type": "markdown",
   "id": "79d8660b",
   "metadata": {},
   "source": [
    "# Requisitos \n",
    "\n",
    "Escreva um programa em Python que colete dados de notícias políticas na\n",
    "página do G1 e os salve em um arquivo no formato html.\n",
    "Coloque o código e o arquivo html no seu GitHub."
   ]
  },
  {
   "cell_type": "code",
   "execution_count": 1,
   "id": "28e08514",
   "metadata": {},
   "outputs": [],
   "source": [
    "# Importanto o pacote requests\n",
    "\n",
    "import requests"
   ]
  },
  {
   "cell_type": "code",
   "execution_count": 3,
   "id": "fefb4898",
   "metadata": {},
   "outputs": [
    {
     "data": {
      "text/plain": [
       "200"
      ]
     },
     "execution_count": 3,
     "metadata": {},
     "output_type": "execute_result"
    }
   ],
   "source": [
    "endereco = \"https://g1.globo.com/politica/\"\n",
    "\n",
    "pagina = requests.get(endereco)\n",
    "pagina.status_code"
   ]
  },
  {
   "cell_type": "code",
   "execution_count": 5,
   "id": "23ce0240",
   "metadata": {},
   "outputs": [],
   "source": [
    "# Gravando o arquivo com as informações da variável página\n",
    "# wb escreve bytes em texto\n",
    "arquivo = open(\"pagina.html\", \"wb\")\n",
    "for texto in pagina.iter_content():\n",
    "    arquivo.write(texto)\n",
    "arquivo.close() "
   ]
  },
  {
   "cell_type": "code",
   "execution_count": null,
   "id": "65d0ed00",
   "metadata": {},
   "outputs": [],
   "source": []
  }
 ],
 "metadata": {
  "kernelspec": {
   "display_name": "Python 3 (ipykernel)",
   "language": "python",
   "name": "python3"
  },
  "language_info": {
   "codemirror_mode": {
    "name": "ipython",
    "version": 3
   },
   "file_extension": ".py",
   "mimetype": "text/x-python",
   "name": "python",
   "nbconvert_exporter": "python",
   "pygments_lexer": "ipython3",
   "version": "3.9.12"
  }
 },
 "nbformat": 4,
 "nbformat_minor": 5
}
